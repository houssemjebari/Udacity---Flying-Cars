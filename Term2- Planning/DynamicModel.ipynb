{
  "nbformat": 4,
  "nbformat_minor": 0,
  "metadata": {
    "colab": {
      "name": "DynamicModel.ipynb",
      "provenance": []
    },
    "kernelspec": {
      "name": "python3",
      "display_name": "Python 3"
    },
    "language_info": {
      "name": "python"
    }
  },
  "cells": [
    {
      "cell_type": "markdown",
      "metadata": {
        "id": "bjZlHm71YQhi"
      },
      "source": [
        "We'll play with $dt$ to see its effect on a simple model:\n",
        "\n",
        "$\\dot{y} = -y$\n",
        "\n",
        "Given a small enough $dt$ value this model approximates $y = e^{-t}$ accurately."
      ]
    },
    {
      "cell_type": "code",
      "metadata": {
        "id": "AaGhC6fgXUtU"
      },
      "source": [
        "import numpy as np\n",
        "import matplotlib.pyplot as plt \n",
        "%matplotlib inline\n",
        "plt.rcParams['figure.figsize'] = 12,12"
      ],
      "execution_count": 1,
      "outputs": []
    },
    {
      "cell_type": "code",
      "metadata": {
        "id": "NIj3UzfPXxCj"
      },
      "source": [
        "def simulate(y,dt):\n",
        "  \"\"\"\n",
        "  Runs a simulation step of the model\n",
        "  \"\"\"\n",
        "  return y - y*dt"
      ],
      "execution_count": 39,
      "outputs": []
    },
    {
      "cell_type": "code",
      "metadata": {
        "id": "u7X4XJJWXw_L"
      },
      "source": [
        "total_time = 10\n",
        "dt = 0.1\n",
        "timesteps = np.arange(0,total_time,dt)"
      ],
      "execution_count": 46,
      "outputs": []
    },
    {
      "cell_type": "code",
      "metadata": {
        "colab": {
          "base_uri": "https://localhost:8080/",
          "height": 295
        },
        "id": "qVhcB1u4Xw8e",
        "outputId": "fe2302c5-8081-42c1-9ce3-00133a89df65"
      },
      "source": [
        "# Run the complete simulation over the timesteps\n",
        "ys = [1]\n",
        "for _ in timesteps:\n",
        "  y = simulate(ys[-1],dt)\n",
        "  ys.append(y)\n",
        "\n",
        "# Initial value of y is 1\n",
        "plt.plot(timesteps,ys[:-1],color='blue')\n",
        "plt.ylabel('Y')\n",
        "plt.xlabel('Time')\n",
        "plt.title('Dynamics Model')\n",
        "plt.show() "
      ],
      "execution_count": 47,
      "outputs": [
        {
          "output_type": "display_data",
          "data": {
            "image/png": "[encoded data removed]",
            "text/plain": [
              "<Figure size 432x288 with 1 Axes>"
            ]
          },
          "metadata": {
            "tags": [],
            "needs_background": "light"
          }
        }
      ]
    }
  ]
}